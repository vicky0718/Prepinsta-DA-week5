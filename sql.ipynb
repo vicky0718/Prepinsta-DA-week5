{
  "cells": [
    {
      "cell_type": "markdown",
      "metadata": {
        "id": "3Qf78Cu1I8m6"
      },
      "source": [
        "# **SQL Murder Mystery**\n",
        "*A crime has taken place and the detective needs your help. The detective gave you the crime scene report, but you somehow lost it. You vaguely remember that the crime was a murder that occurred sometime on Jan.15, 2018, and that it took place in SQL City.\n",
        "Start by retrieving the corresponding crime scene report from the police department's database.*\n"
      ]
    },
    {
      "cell_type": "code",
      "execution_count": 1,
      "metadata": {
        "id": "9_s_eQ0P-yTq"
      },
      "outputs": [],
      "source": [
        "# Importing libraries\n",
        "\n",
        "import pandas as pd\n",
        "import sqlite3 as sql\n",
        "\n",
        "# SQLite is a C library that provides a lightweight disk-based database that doesn’t require a separate server process and allows accessing the database using a nonstandard variant of the SQL query language."
      ]
    },
    {
      "cell_type": "markdown",
      "metadata": {
        "id": "2ytS-Cms_4d6"
      },
      "source": [
        "## Setting up the connection\n",
        "Establishing a connection to the police department's database in Python."
      ]
    },
    {
      "cell_type": "code",
      "execution_count": 3,
      "metadata": {
        "colab": {
          "base_uri": "https://localhost:8080/"
        },
        "id": "h8xxi7xH_Dbu",
        "outputId": "d2c982c7-2100-48ec-fb30-16b424c86056"
      },
      "outputs": [
        {
          "name": "stdout",
          "output_type": "stream",
          "text": [
            "<sqlite3.Connection object at 0x000001EF60C771F0>\n"
          ]
        }
      ],
      "source": [
        "conn = sql.connect('sql-murder-mystery.db')\n",
        "print(conn)"
      ]
    },
    {
      "cell_type": "markdown",
      "metadata": {
        "id": "HCrBM3lbA4du"
      },
      "source": [
        "Retrieving the crime scene report for the murder that occurred on Jan.15, 2018, in SQL City."
      ]
    },
    {
      "cell_type": "code",
      "execution_count": 4,
      "metadata": {
        "colab": {
          "base_uri": "https://localhost:8080/",
          "height": 81
        },
        "id": "q-_o3A8h_DeN",
        "outputId": "e670dc7c-e4ed-4f92-ec7f-3d5d2797fd61"
      },
      "outputs": [
        {
          "data": {
            "text/html": [
              "<div>\n",
              "<style scoped>\n",
              "    .dataframe tbody tr th:only-of-type {\n",
              "        vertical-align: middle;\n",
              "    }\n",
              "\n",
              "    .dataframe tbody tr th {\n",
              "        vertical-align: top;\n",
              "    }\n",
              "\n",
              "    .dataframe thead th {\n",
              "        text-align: right;\n",
              "    }\n",
              "</style>\n",
              "<table border=\"1\" class=\"dataframe\">\n",
              "  <thead>\n",
              "    <tr style=\"text-align: right;\">\n",
              "      <th></th>\n",
              "      <th>date</th>\n",
              "      <th>type</th>\n",
              "      <th>description</th>\n",
              "      <th>city</th>\n",
              "    </tr>\n",
              "  </thead>\n",
              "  <tbody>\n",
              "    <tr>\n",
              "      <th>0</th>\n",
              "      <td>20180115</td>\n",
              "      <td>murder</td>\n",
              "      <td>Security footage shows that there were 2 witne...</td>\n",
              "      <td>SQL City</td>\n",
              "    </tr>\n",
              "  </tbody>\n",
              "</table>\n",
              "</div>"
            ],
            "text/plain": [
              "       date    type                                        description  \\\n",
              "0  20180115  murder  Security footage shows that there were 2 witne...   \n",
              "\n",
              "       city  \n",
              "0  SQL City  "
            ]
          },
          "execution_count": 4,
          "metadata": {},
          "output_type": "execute_result"
        }
      ],
      "source": [
        "query_1 = '''\n",
        "SELECT * FROM crime_scene_report\n",
        "WHERE city = 'SQL City'\n",
        "AND type = 'murder'\n",
        "AND date = '20180115';\n",
        "'''\n",
        "# To execute\n",
        "pd.read_sql_query(query_1,conn)"
      ]
    },
    {
      "cell_type": "markdown",
      "metadata": {
        "id": "jdBPVHYzCVL-"
      },
      "source": [
        "Checking the personal details of witnesses involved in the case and retrieving their names, addresses and any other relevant information."
      ]
    },
    {
      "cell_type": "code",
      "execution_count": 5,
      "metadata": {
        "colab": {
          "base_uri": "https://localhost:8080/",
          "height": 175
        },
        "id": "kidG_O-S_DjM",
        "outputId": "36bec614-dd48-4e3f-ef8b-35def7d1971e"
      },
      "outputs": [
        {
          "data": {
            "text/html": [
              "<div>\n",
              "<style scoped>\n",
              "    .dataframe tbody tr th:only-of-type {\n",
              "        vertical-align: middle;\n",
              "    }\n",
              "\n",
              "    .dataframe tbody tr th {\n",
              "        vertical-align: top;\n",
              "    }\n",
              "\n",
              "    .dataframe thead th {\n",
              "        text-align: right;\n",
              "    }\n",
              "</style>\n",
              "<table border=\"1\" class=\"dataframe\">\n",
              "  <thead>\n",
              "    <tr style=\"text-align: right;\">\n",
              "      <th></th>\n",
              "      <th>id</th>\n",
              "      <th>name</th>\n",
              "      <th>license_id</th>\n",
              "      <th>address_number</th>\n",
              "      <th>address_street_name</th>\n",
              "      <th>ssn</th>\n",
              "    </tr>\n",
              "  </thead>\n",
              "  <tbody>\n",
              "    <tr>\n",
              "      <th>0</th>\n",
              "      <td>14887</td>\n",
              "      <td>Morty Schapiro</td>\n",
              "      <td>118009</td>\n",
              "      <td>4919</td>\n",
              "      <td>Northwestern Dr</td>\n",
              "      <td>111564949</td>\n",
              "    </tr>\n",
              "    <tr>\n",
              "      <th>1</th>\n",
              "      <td>17729</td>\n",
              "      <td>Lasonya Wildey</td>\n",
              "      <td>439686</td>\n",
              "      <td>3824</td>\n",
              "      <td>Northwestern Dr</td>\n",
              "      <td>917817122</td>\n",
              "    </tr>\n",
              "    <tr>\n",
              "      <th>2</th>\n",
              "      <td>53890</td>\n",
              "      <td>Sophie Tiberio</td>\n",
              "      <td>957671</td>\n",
              "      <td>3755</td>\n",
              "      <td>Northwestern Dr</td>\n",
              "      <td>442830147</td>\n",
              "    </tr>\n",
              "    <tr>\n",
              "      <th>3</th>\n",
              "      <td>73368</td>\n",
              "      <td>Torie Thalmann</td>\n",
              "      <td>773862</td>\n",
              "      <td>3697</td>\n",
              "      <td>Northwestern Dr</td>\n",
              "      <td>341559436</td>\n",
              "    </tr>\n",
              "  </tbody>\n",
              "</table>\n",
              "</div>"
            ],
            "text/plain": [
              "      id            name  license_id  address_number address_street_name  \\\n",
              "0  14887  Morty Schapiro      118009            4919     Northwestern Dr   \n",
              "1  17729  Lasonya Wildey      439686            3824     Northwestern Dr   \n",
              "2  53890  Sophie Tiberio      957671            3755     Northwestern Dr   \n",
              "3  73368  Torie Thalmann      773862            3697     Northwestern Dr   \n",
              "\n",
              "         ssn  \n",
              "0  111564949  \n",
              "1  917817122  \n",
              "2  442830147  \n",
              "3  341559436  "
            ]
          },
          "execution_count": 5,
          "metadata": {},
          "output_type": "execute_result"
        }
      ],
      "source": [
        "query_2 = '''\n",
        "SELECT * FROM person\n",
        "WHERE address_street_name = 'Northwestern Dr'\n",
        "ORDER BY address_number DESC\n",
        "limit 4;\n",
        "'''\n",
        "pd.read_sql_query(query_2,conn)"
      ]
    },
    {
      "cell_type": "code",
      "execution_count": 6,
      "metadata": {
        "colab": {
          "base_uri": "https://localhost:8080/",
          "height": 81
        },
        "id": "fsN7tDWM_Dlf",
        "outputId": "b0cf5063-0c32-46a8-dc5a-daf05707d449"
      },
      "outputs": [
        {
          "data": {
            "text/html": [
              "<div>\n",
              "<style scoped>\n",
              "    .dataframe tbody tr th:only-of-type {\n",
              "        vertical-align: middle;\n",
              "    }\n",
              "\n",
              "    .dataframe tbody tr th {\n",
              "        vertical-align: top;\n",
              "    }\n",
              "\n",
              "    .dataframe thead th {\n",
              "        text-align: right;\n",
              "    }\n",
              "</style>\n",
              "<table border=\"1\" class=\"dataframe\">\n",
              "  <thead>\n",
              "    <tr style=\"text-align: right;\">\n",
              "      <th></th>\n",
              "      <th>id</th>\n",
              "      <th>name</th>\n",
              "      <th>license_id</th>\n",
              "      <th>address_number</th>\n",
              "      <th>address_street_name</th>\n",
              "      <th>ssn</th>\n",
              "    </tr>\n",
              "  </thead>\n",
              "  <tbody>\n",
              "    <tr>\n",
              "      <th>0</th>\n",
              "      <td>16371</td>\n",
              "      <td>Annabel Miller</td>\n",
              "      <td>490173</td>\n",
              "      <td>103</td>\n",
              "      <td>Franklin Ave</td>\n",
              "      <td>318771143</td>\n",
              "    </tr>\n",
              "  </tbody>\n",
              "</table>\n",
              "</div>"
            ],
            "text/plain": [
              "      id            name  license_id  address_number address_street_name  \\\n",
              "0  16371  Annabel Miller      490173             103        Franklin Ave   \n",
              "\n",
              "         ssn  \n",
              "0  318771143  "
            ]
          },
          "execution_count": 6,
          "metadata": {},
          "output_type": "execute_result"
        }
      ],
      "source": [
        "query_3 = '''\n",
        "SELECT * FROM person\n",
        "WHERE address_street_name = 'Franklin Ave'\n",
        "AND name LIKE 'Annabel%';\n",
        "'''\n",
        "pd.read_sql_query(query_3,conn)"
      ]
    },
    {
      "cell_type": "markdown",
      "metadata": {
        "id": "6kVZed5iDwvB"
      },
      "source": [
        "Accessing the recorded interviews of witnesses conducted after the murder and gathering insights into their statements and potential clues."
      ]
    },
    {
      "cell_type": "code",
      "execution_count": 7,
      "metadata": {
        "colab": {
          "base_uri": "https://localhost:8080/",
          "height": 112
        },
        "id": "x56Lci5q_DnR",
        "outputId": "72eba616-14d3-43e5-974a-41929446c39e"
      },
      "outputs": [
        {
          "data": {
            "text/html": [
              "<div>\n",
              "<style scoped>\n",
              "    .dataframe tbody tr th:only-of-type {\n",
              "        vertical-align: middle;\n",
              "    }\n",
              "\n",
              "    .dataframe tbody tr th {\n",
              "        vertical-align: top;\n",
              "    }\n",
              "\n",
              "    .dataframe thead th {\n",
              "        text-align: right;\n",
              "    }\n",
              "</style>\n",
              "<table border=\"1\" class=\"dataframe\">\n",
              "  <thead>\n",
              "    <tr style=\"text-align: right;\">\n",
              "      <th></th>\n",
              "      <th>person_id</th>\n",
              "      <th>transcript</th>\n",
              "    </tr>\n",
              "  </thead>\n",
              "  <tbody>\n",
              "    <tr>\n",
              "      <th>0</th>\n",
              "      <td>14887</td>\n",
              "      <td>I heard a gunshot and then saw a man run out. ...</td>\n",
              "    </tr>\n",
              "    <tr>\n",
              "      <th>1</th>\n",
              "      <td>16371</td>\n",
              "      <td>I saw the murder happen, and I recognized the ...</td>\n",
              "    </tr>\n",
              "  </tbody>\n",
              "</table>\n",
              "</div>"
            ],
            "text/plain": [
              "   person_id                                         transcript\n",
              "0      14887  I heard a gunshot and then saw a man run out. ...\n",
              "1      16371  I saw the murder happen, and I recognized the ..."
            ]
          },
          "execution_count": 7,
          "metadata": {},
          "output_type": "execute_result"
        }
      ],
      "source": [
        "query_4 = '''\n",
        "SELECT * FROM interview\n",
        "WHERE person_id IN ('14887','16371');\n",
        "'''\n",
        "pd.read_sql_query(query_4,conn)"
      ]
    },
    {
      "cell_type": "markdown",
      "metadata": {
        "id": "jSvItFEeEf-2"
      },
      "source": [
        "Investigating the gym database using details obtained from the crime scene report and witness interviews and looking for any gym-related information that might be relevant."
      ]
    },
    {
      "cell_type": "code",
      "execution_count": 8,
      "metadata": {
        "colab": {
          "base_uri": "https://localhost:8080/",
          "height": 112
        },
        "id": "-y_UI7yq_Dpb",
        "outputId": "0fc51fbd-5d31-4e6a-9523-cea36a405419"
      },
      "outputs": [
        {
          "data": {
            "text/html": [
              "<div>\n",
              "<style scoped>\n",
              "    .dataframe tbody tr th:only-of-type {\n",
              "        vertical-align: middle;\n",
              "    }\n",
              "\n",
              "    .dataframe tbody tr th {\n",
              "        vertical-align: top;\n",
              "    }\n",
              "\n",
              "    .dataframe thead th {\n",
              "        text-align: right;\n",
              "    }\n",
              "</style>\n",
              "<table border=\"1\" class=\"dataframe\">\n",
              "  <thead>\n",
              "    <tr style=\"text-align: right;\">\n",
              "      <th></th>\n",
              "      <th>id</th>\n",
              "      <th>person_id</th>\n",
              "      <th>name</th>\n",
              "      <th>membership_start_date</th>\n",
              "      <th>membership_status</th>\n",
              "    </tr>\n",
              "  </thead>\n",
              "  <tbody>\n",
              "    <tr>\n",
              "      <th>0</th>\n",
              "      <td>48Z7A</td>\n",
              "      <td>28819</td>\n",
              "      <td>Joe Germuska</td>\n",
              "      <td>20160305</td>\n",
              "      <td>gold</td>\n",
              "    </tr>\n",
              "    <tr>\n",
              "      <th>1</th>\n",
              "      <td>48Z55</td>\n",
              "      <td>67318</td>\n",
              "      <td>Jeremy Bowers</td>\n",
              "      <td>20160101</td>\n",
              "      <td>gold</td>\n",
              "    </tr>\n",
              "  </tbody>\n",
              "</table>\n",
              "</div>"
            ],
            "text/plain": [
              "      id  person_id           name  membership_start_date membership_status\n",
              "0  48Z7A      28819   Joe Germuska               20160305              gold\n",
              "1  48Z55      67318  Jeremy Bowers               20160101              gold"
            ]
          },
          "execution_count": 8,
          "metadata": {},
          "output_type": "execute_result"
        }
      ],
      "source": [
        "query_5 = '''\n",
        "SELECT * FROM get_fit_now_member\n",
        "WHERE id LIKE '48Z%'\n",
        "AND membership_status = 'gold';\n",
        "'''\n",
        "pd.read_sql_query(query_5,conn)"
      ]
    },
    {
      "cell_type": "markdown",
      "metadata": {
        "id": "adC_LopkE92u"
      },
      "source": [
        "Examining the car details associated with the crime scene and retrieving information about the vehicles present during the incident."
      ]
    },
    {
      "cell_type": "code",
      "execution_count": 9,
      "metadata": {
        "colab": {
          "base_uri": "https://localhost:8080/",
          "height": 143
        },
        "id": "luKBsC3d_Drd",
        "outputId": "906bd81e-2c8a-453b-d119-bc563f90e05e"
      },
      "outputs": [
        {
          "data": {
            "text/html": [
              "<div>\n",
              "<style scoped>\n",
              "    .dataframe tbody tr th:only-of-type {\n",
              "        vertical-align: middle;\n",
              "    }\n",
              "\n",
              "    .dataframe tbody tr th {\n",
              "        vertical-align: top;\n",
              "    }\n",
              "\n",
              "    .dataframe thead th {\n",
              "        text-align: right;\n",
              "    }\n",
              "</style>\n",
              "<table border=\"1\" class=\"dataframe\">\n",
              "  <thead>\n",
              "    <tr style=\"text-align: right;\">\n",
              "      <th></th>\n",
              "      <th>id</th>\n",
              "      <th>age</th>\n",
              "      <th>height</th>\n",
              "      <th>eye_color</th>\n",
              "      <th>hair_color</th>\n",
              "      <th>gender</th>\n",
              "      <th>plate_number</th>\n",
              "      <th>car_make</th>\n",
              "      <th>car_model</th>\n",
              "    </tr>\n",
              "  </thead>\n",
              "  <tbody>\n",
              "    <tr>\n",
              "      <th>0</th>\n",
              "      <td>183779</td>\n",
              "      <td>21</td>\n",
              "      <td>65</td>\n",
              "      <td>blue</td>\n",
              "      <td>blonde</td>\n",
              "      <td>female</td>\n",
              "      <td>H42W0X</td>\n",
              "      <td>Toyota</td>\n",
              "      <td>Prius</td>\n",
              "    </tr>\n",
              "    <tr>\n",
              "      <th>1</th>\n",
              "      <td>423327</td>\n",
              "      <td>30</td>\n",
              "      <td>70</td>\n",
              "      <td>brown</td>\n",
              "      <td>brown</td>\n",
              "      <td>male</td>\n",
              "      <td>0H42W2</td>\n",
              "      <td>Chevrolet</td>\n",
              "      <td>Spark LS</td>\n",
              "    </tr>\n",
              "    <tr>\n",
              "      <th>2</th>\n",
              "      <td>664760</td>\n",
              "      <td>21</td>\n",
              "      <td>71</td>\n",
              "      <td>black</td>\n",
              "      <td>black</td>\n",
              "      <td>male</td>\n",
              "      <td>4H42WR</td>\n",
              "      <td>Nissan</td>\n",
              "      <td>Altima</td>\n",
              "    </tr>\n",
              "  </tbody>\n",
              "</table>\n",
              "</div>"
            ],
            "text/plain": [
              "       id  age  height eye_color hair_color  gender plate_number   car_make  \\\n",
              "0  183779   21      65      blue     blonde  female       H42W0X     Toyota   \n",
              "1  423327   30      70     brown      brown    male       0H42W2  Chevrolet   \n",
              "2  664760   21      71     black      black    male       4H42WR     Nissan   \n",
              "\n",
              "  car_model  \n",
              "0     Prius  \n",
              "1  Spark LS  \n",
              "2    Altima  "
            ]
          },
          "execution_count": 9,
          "metadata": {},
          "output_type": "execute_result"
        }
      ],
      "source": [
        "query_6 = '''\n",
        "SELECT * FROM drivers_license\n",
        "WHERE plate_number LIKE '%H42W%';\n",
        "'''\n",
        "pd.read_sql_query(query_6,conn)"
      ]
    },
    {
      "cell_type": "markdown",
      "metadata": {
        "id": "fFRQGS__Fmi1"
      },
      "source": [
        "Identifing and collecting personal details mentioned in the previous query and it includes names, addresses and any additional details."
      ]
    },
    {
      "cell_type": "code",
      "execution_count": 10,
      "metadata": {
        "colab": {
          "base_uri": "https://localhost:8080/",
          "height": 143
        },
        "id": "AQ89HZec_Dt4",
        "outputId": "de3edfab-4022-4577-b3dd-c1a03e468fa0"
      },
      "outputs": [
        {
          "data": {
            "text/html": [
              "<div>\n",
              "<style scoped>\n",
              "    .dataframe tbody tr th:only-of-type {\n",
              "        vertical-align: middle;\n",
              "    }\n",
              "\n",
              "    .dataframe tbody tr th {\n",
              "        vertical-align: top;\n",
              "    }\n",
              "\n",
              "    .dataframe thead th {\n",
              "        text-align: right;\n",
              "    }\n",
              "</style>\n",
              "<table border=\"1\" class=\"dataframe\">\n",
              "  <thead>\n",
              "    <tr style=\"text-align: right;\">\n",
              "      <th></th>\n",
              "      <th>id</th>\n",
              "      <th>name</th>\n",
              "      <th>license_id</th>\n",
              "      <th>address_number</th>\n",
              "      <th>address_street_name</th>\n",
              "      <th>ssn</th>\n",
              "    </tr>\n",
              "  </thead>\n",
              "  <tbody>\n",
              "    <tr>\n",
              "      <th>0</th>\n",
              "      <td>51739</td>\n",
              "      <td>Tushar Chandra</td>\n",
              "      <td>664760</td>\n",
              "      <td>312</td>\n",
              "      <td>Phi St</td>\n",
              "      <td>137882671</td>\n",
              "    </tr>\n",
              "    <tr>\n",
              "      <th>1</th>\n",
              "      <td>67318</td>\n",
              "      <td>Jeremy Bowers</td>\n",
              "      <td>423327</td>\n",
              "      <td>530</td>\n",
              "      <td>Washington Pl, Apt 3A</td>\n",
              "      <td>871539279</td>\n",
              "    </tr>\n",
              "    <tr>\n",
              "      <th>2</th>\n",
              "      <td>78193</td>\n",
              "      <td>Maxine Whitely</td>\n",
              "      <td>183779</td>\n",
              "      <td>110</td>\n",
              "      <td>Fisk Rd</td>\n",
              "      <td>137882671</td>\n",
              "    </tr>\n",
              "  </tbody>\n",
              "</table>\n",
              "</div>"
            ],
            "text/plain": [
              "      id            name  license_id  address_number    address_street_name  \\\n",
              "0  51739  Tushar Chandra      664760             312                 Phi St   \n",
              "1  67318   Jeremy Bowers      423327             530  Washington Pl, Apt 3A   \n",
              "2  78193  Maxine Whitely      183779             110                Fisk Rd   \n",
              "\n",
              "         ssn  \n",
              "0  137882671  \n",
              "1  871539279  \n",
              "2  137882671  "
            ]
          },
          "execution_count": 10,
          "metadata": {},
          "output_type": "execute_result"
        }
      ],
      "source": [
        "query_7 = '''\n",
        "SELECT * FROM person\n",
        "WHERE license_id IN ('183779', '423327', '664760');\n",
        "'''\n",
        "pd.read_sql_query(query_7,conn)"
      ]
    },
    {
      "cell_type": "markdown",
      "metadata": {
        "id": "QxSL5urOGPbg"
      },
      "source": [
        "Determining who is identified in the previous query as a member of the gym and utilizing the gym database to confirm their membership status."
      ]
    },
    {
      "cell_type": "code",
      "execution_count": 11,
      "metadata": {
        "colab": {
          "base_uri": "https://localhost:8080/",
          "height": 81
        },
        "id": "Y5GLcRGZ_Dwb",
        "outputId": "a001c145-fe9c-44ac-f5bf-8c12c482f81a"
      },
      "outputs": [
        {
          "data": {
            "text/html": [
              "<div>\n",
              "<style scoped>\n",
              "    .dataframe tbody tr th:only-of-type {\n",
              "        vertical-align: middle;\n",
              "    }\n",
              "\n",
              "    .dataframe tbody tr th {\n",
              "        vertical-align: top;\n",
              "    }\n",
              "\n",
              "    .dataframe thead th {\n",
              "        text-align: right;\n",
              "    }\n",
              "</style>\n",
              "<table border=\"1\" class=\"dataframe\">\n",
              "  <thead>\n",
              "    <tr style=\"text-align: right;\">\n",
              "      <th></th>\n",
              "      <th>id</th>\n",
              "      <th>person_id</th>\n",
              "      <th>name</th>\n",
              "      <th>membership_start_date</th>\n",
              "      <th>membership_status</th>\n",
              "    </tr>\n",
              "  </thead>\n",
              "  <tbody>\n",
              "    <tr>\n",
              "      <th>0</th>\n",
              "      <td>48Z55</td>\n",
              "      <td>67318</td>\n",
              "      <td>Jeremy Bowers</td>\n",
              "      <td>20160101</td>\n",
              "      <td>gold</td>\n",
              "    </tr>\n",
              "  </tbody>\n",
              "</table>\n",
              "</div>"
            ],
            "text/plain": [
              "      id  person_id           name  membership_start_date membership_status\n",
              "0  48Z55      67318  Jeremy Bowers               20160101              gold"
            ]
          },
          "execution_count": 11,
          "metadata": {},
          "output_type": "execute_result"
        }
      ],
      "source": [
        "query_8 = '''\n",
        "SELECT * FROM get_fit_now_member\n",
        "WHERE person_id IN ('51739', '67318', '78193');\n",
        "'''\n",
        "pd.read_sql_query(query_8,conn)"
      ]
    },
    {
      "cell_type": "markdown",
      "metadata": {
        "id": "wVfSjNjFIMud"
      },
      "source": [
        "# Murder is **JEREMY BOWERS**"
      ]
    },
    {
      "cell_type": "markdown",
      "metadata": {
        "id": "wr1yfpBSG0PK"
      },
      "source": [
        "Interviewing the murderer to get the clues of true mastermind who is behind the murder."
      ]
    },
    {
      "cell_type": "code",
      "execution_count": 12,
      "metadata": {
        "colab": {
          "base_uri": "https://localhost:8080/",
          "height": 81
        },
        "id": "OQrvnanG_Dy0",
        "outputId": "ca5e4c7a-40f1-48d3-e7ce-fbc53358fca2"
      },
      "outputs": [
        {
          "data": {
            "text/html": [
              "<div>\n",
              "<style scoped>\n",
              "    .dataframe tbody tr th:only-of-type {\n",
              "        vertical-align: middle;\n",
              "    }\n",
              "\n",
              "    .dataframe tbody tr th {\n",
              "        vertical-align: top;\n",
              "    }\n",
              "\n",
              "    .dataframe thead th {\n",
              "        text-align: right;\n",
              "    }\n",
              "</style>\n",
              "<table border=\"1\" class=\"dataframe\">\n",
              "  <thead>\n",
              "    <tr style=\"text-align: right;\">\n",
              "      <th></th>\n",
              "      <th>person_id</th>\n",
              "      <th>transcript</th>\n",
              "    </tr>\n",
              "  </thead>\n",
              "  <tbody>\n",
              "    <tr>\n",
              "      <th>0</th>\n",
              "      <td>67318</td>\n",
              "      <td>I was hired by a woman with a lot of money. I ...</td>\n",
              "    </tr>\n",
              "  </tbody>\n",
              "</table>\n",
              "</div>"
            ],
            "text/plain": [
              "   person_id                                         transcript\n",
              "0      67318  I was hired by a woman with a lot of money. I ..."
            ]
          },
          "execution_count": 12,
          "metadata": {},
          "output_type": "execute_result"
        }
      ],
      "source": [
        "query_9 = '''\n",
        "SELECT * FROM interview\n",
        "WHERE person_id = '67318';\n",
        "'''\n",
        "pd.read_sql_query(query_9,conn)"
      ]
    },
    {
      "cell_type": "markdown",
      "metadata": {
        "id": "Y-4vNmP-HHub"
      },
      "source": [
        "Working on the clues."
      ]
    },
    {
      "cell_type": "code",
      "execution_count": 13,
      "metadata": {
        "colab": {
          "base_uri": "https://localhost:8080/",
          "height": 143
        },
        "id": "Di5sOJAHHi6D",
        "outputId": "6d929b91-6d2e-4f42-e17f-0d1f512ee7f9"
      },
      "outputs": [
        {
          "data": {
            "text/html": [
              "<div>\n",
              "<style scoped>\n",
              "    .dataframe tbody tr th:only-of-type {\n",
              "        vertical-align: middle;\n",
              "    }\n",
              "\n",
              "    .dataframe tbody tr th {\n",
              "        vertical-align: top;\n",
              "    }\n",
              "\n",
              "    .dataframe thead th {\n",
              "        text-align: right;\n",
              "    }\n",
              "</style>\n",
              "<table border=\"1\" class=\"dataframe\">\n",
              "  <thead>\n",
              "    <tr style=\"text-align: right;\">\n",
              "      <th></th>\n",
              "      <th>id</th>\n",
              "      <th>name</th>\n",
              "      <th>license_id</th>\n",
              "      <th>address_number</th>\n",
              "      <th>address_street_name</th>\n",
              "      <th>ssn</th>\n",
              "      <th>hair_color</th>\n",
              "      <th>gender</th>\n",
              "      <th>car_make</th>\n",
              "      <th>car_model</th>\n",
              "      <th>height</th>\n",
              "    </tr>\n",
              "  </thead>\n",
              "  <tbody>\n",
              "    <tr>\n",
              "      <th>0</th>\n",
              "      <td>99716</td>\n",
              "      <td>Miranda Priestly</td>\n",
              "      <td>202298</td>\n",
              "      <td>1883</td>\n",
              "      <td>Golden Ave</td>\n",
              "      <td>987756388</td>\n",
              "      <td>red</td>\n",
              "      <td>female</td>\n",
              "      <td>Tesla</td>\n",
              "      <td>Model S</td>\n",
              "      <td>66</td>\n",
              "    </tr>\n",
              "    <tr>\n",
              "      <th>1</th>\n",
              "      <td>99716</td>\n",
              "      <td>Miranda Priestly</td>\n",
              "      <td>202298</td>\n",
              "      <td>1883</td>\n",
              "      <td>Golden Ave</td>\n",
              "      <td>987756388</td>\n",
              "      <td>red</td>\n",
              "      <td>female</td>\n",
              "      <td>Tesla</td>\n",
              "      <td>Model S</td>\n",
              "      <td>66</td>\n",
              "    </tr>\n",
              "    <tr>\n",
              "      <th>2</th>\n",
              "      <td>99716</td>\n",
              "      <td>Miranda Priestly</td>\n",
              "      <td>202298</td>\n",
              "      <td>1883</td>\n",
              "      <td>Golden Ave</td>\n",
              "      <td>987756388</td>\n",
              "      <td>red</td>\n",
              "      <td>female</td>\n",
              "      <td>Tesla</td>\n",
              "      <td>Model S</td>\n",
              "      <td>66</td>\n",
              "    </tr>\n",
              "  </tbody>\n",
              "</table>\n",
              "</div>"
            ],
            "text/plain": [
              "      id              name  license_id  address_number address_street_name  \\\n",
              "0  99716  Miranda Priestly      202298            1883          Golden Ave   \n",
              "1  99716  Miranda Priestly      202298            1883          Golden Ave   \n",
              "2  99716  Miranda Priestly      202298            1883          Golden Ave   \n",
              "\n",
              "         ssn hair_color  gender car_make car_model  height  \n",
              "0  987756388        red  female    Tesla   Model S      66  \n",
              "1  987756388        red  female    Tesla   Model S      66  \n",
              "2  987756388        red  female    Tesla   Model S      66  "
            ]
          },
          "execution_count": 13,
          "metadata": {},
          "output_type": "execute_result"
        }
      ],
      "source": [
        "query_10 = '''\n",
        "SELECT per.* , dl.hair_color, dl.gender, dl.car_make, dl.car_model, dl.height\n",
        "FROM person as per\n",
        "INNER JOIN drivers_license AS dl\n",
        "ON dl.id = per.license_id\n",
        "INNER JOIN facebook_event_checkin AS fb_event\n",
        "ON fb_event.person_id = per.id\n",
        "WHERE dl.hair_color = 'red'\n",
        "AND dl.height BETWEEN 65 AND 67\n",
        "AND dl.gender = 'female'\n",
        "AND dl.car_make = 'Tesla'\n",
        "AND dl.car_model = 'Model S';\n",
        "'''\n",
        "pd.read_sql_query(query_10,conn)"
      ]
    },
    {
      "cell_type": "markdown",
      "metadata": {
        "id": "mAYzF84eIhz6"
      },
      "source": [
        "# Real master-mind behind this crime is **MIRANDA PRIESTLY**"
      ]
    }
  ],
  "metadata": {
    "colab": {
      "provenance": []
    },
    "kernelspec": {
      "display_name": "Python 3",
      "name": "python3"
    },
    "language_info": {
      "codemirror_mode": {
        "name": "ipython",
        "version": 3
      },
      "file_extension": ".py",
      "mimetype": "text/x-python",
      "name": "python",
      "nbconvert_exporter": "python",
      "pygments_lexer": "ipython3",
      "version": "3.11.8"
    }
  },
  "nbformat": 4,
  "nbformat_minor": 0
}
